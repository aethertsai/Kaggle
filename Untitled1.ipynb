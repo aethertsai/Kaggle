{
 "cells": [
  {
   "cell_type": "code",
   "execution_count": 22,
   "metadata": {},
   "outputs": [],
   "source": [
    "import tensorflow as tf\n",
    "import pandas as pd\n",
    "import numpy as np"
   ]
  },
  {
   "cell_type": "code",
   "execution_count": 23,
   "metadata": {},
   "outputs": [
    {
     "name": "stdout",
     "output_type": "stream",
     "text": [
      "WARNING:tensorflow:From /Library/Frameworks/Python.framework/Versions/3.7/lib/python3.7/site-packages/tensorflow/python/util/tf_should_use.py:193: initialize_all_variables (from tensorflow.python.ops.variables) is deprecated and will be removed after 2017-03-02.\n",
      "Instructions for updating:\n",
      "Use `tf.global_variables_initializer` instead.\n",
      "Epoch: 1, w: -0.8519731163978577, b: 9.70474624633789\n",
      "Epoch: 2, w: 0.3132871091365814, b: 10.474084854125977\n",
      "Epoch: 3, w: 1.1131772994995117, b: 10.324934959411621\n",
      "Epoch: 4, w: 1.5468159914016724, b: 10.17900276184082\n",
      "Epoch: 5, w: 1.770810604095459, b: 10.095699310302734\n",
      "Epoch: 6, w: 1.8851629495620728, b: 10.052163124084473\n",
      "Epoch: 7, w: 1.9433685541152954, b: 10.029873847961426\n",
      "Epoch: 8, w: 1.9729735851287842, b: 10.018519401550293\n",
      "Epoch: 9, w: 1.9880279302597046, b: 10.012744903564453\n",
      "Epoch: 10, w: 1.9956833124160767, b: 10.009804725646973\n"
     ]
    }
   ],
   "source": [
    "train_X = np.linspace(-1, 1, 100)\n",
    "train_Y = 2 * train_X + np.random.randn(*train_X.shape) * 0.33 + 10\n",
    "\n",
    "# Define the model\n",
    "X = tf.placeholder(\"float\")\n",
    "Y = tf.placeholder(\"float\")\n",
    "w = tf.Variable(0.0, name=\"weight\")\n",
    "b = tf.Variable(0.0, name=\"bias\")\n",
    "loss = tf.square(Y - X * w - b)\n",
    "train_op = tf.train.GradientDescentOptimizer(0.01).minimize(loss)\n",
    "\n",
    "# Create session to run\n",
    "with tf.Session() as sess:\n",
    "    sess.run(tf.initialize_all_variables())\n",
    "\n",
    "    epoch = 1\n",
    "    for i in range(10):\n",
    "        for (x, y) in zip(train_X, train_Y):\n",
    "            _, w_value, b_value = sess.run([train_op, w, b],\n",
    "                                           feed_dict={X: x,\n",
    "                                                      Y: y})\n",
    "        print(\"Epoch: {}, w: {}, b: {}\".format(epoch, w_value, b_value))\n",
    "        epoch += 1"
   ]
  },
  {
   "cell_type": "code",
   "execution_count": 24,
   "metadata": {},
   "outputs": [
    {
     "data": {
      "text/plain": [
       "array([ 7.93660564,  8.42137694,  7.71274581,  8.13449569,  7.80932573,\n",
       "        8.08178833,  7.50873315,  8.01327276,  8.49414359,  8.13920846,\n",
       "        8.36714192,  8.31827483,  8.62415984,  8.91862051,  7.97755781,\n",
       "        8.53072394,  8.73086459,  8.60604192,  8.804069  ,  8.77492566,\n",
       "        8.79443174,  8.35475346,  8.97957478,  9.13007868,  9.28989362,\n",
       "        9.17293461,  9.05372378,  8.43719881,  8.82419377,  9.20240648,\n",
       "        9.24533075,  9.19818751,  9.42057184,  9.57992454,  9.27525501,\n",
       "        9.3989097 ,  9.18087955,  9.79348866, 10.17216512,  9.10321529,\n",
       "        9.99104764,  9.44069681,  9.64476207,  9.88414648,  9.67829842,\n",
       "       10.31352177,  9.76943629, 10.44381632,  9.8357625 ,  9.84659326,\n",
       "       10.0692492 ,  9.77912898,  9.78337288, 10.25440853, 10.3853003 ,\n",
       "        9.90752831, 10.22569572, 10.78116435, 11.39441931, 10.75260141,\n",
       "        9.95612443, 10.82094581, 10.819311  , 10.51856539, 10.57877537,\n",
       "       10.67289861, 11.18312079, 10.22286007, 10.70844305, 11.00409368,\n",
       "       10.34291348, 10.92105561, 11.28507936, 10.77399835, 11.73179475,\n",
       "       10.68223462, 11.18917385, 11.06797178, 11.47827611, 11.01480425,\n",
       "       11.40607293, 11.35840297, 11.82646252, 11.94804598, 11.0074527 ,\n",
       "       11.05363405, 11.81059759, 11.41576215, 11.30502979, 11.38907993,\n",
       "       11.58844842, 12.22886542, 11.79947648, 11.55911074, 11.19658242,\n",
       "       12.22494769, 11.79142965, 11.69520136, 11.9071474 , 11.63027679])"
      ]
     },
     "execution_count": 24,
     "metadata": {},
     "output_type": "execute_result"
    }
   ],
   "source": []
  },
  {
   "cell_type": "code",
   "execution_count": null,
   "metadata": {},
   "outputs": [],
   "source": []
  }
 ],
 "metadata": {
  "kernelspec": {
   "display_name": "Python 3",
   "language": "python",
   "name": "python3"
  },
  "language_info": {
   "codemirror_mode": {
    "name": "ipython",
    "version": 3
   },
   "file_extension": ".py",
   "mimetype": "text/x-python",
   "name": "python",
   "nbconvert_exporter": "python",
   "pygments_lexer": "ipython3",
   "version": "3.7.3"
  }
 },
 "nbformat": 4,
 "nbformat_minor": 2
}
