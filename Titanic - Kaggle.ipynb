{
 "cells": [
  {
   "cell_type": "code",
   "execution_count": 1,
   "metadata": {},
   "outputs": [],
   "source": [
    "from sklearn import preprocessing \n",
    "from sklearn.model_selection import GridSearchCV \n",
    "from sklearn.ensemble import RandomForestClassifier \n",
    "from sklearn.ensemble import RandomForestRegressor\n",
    "from sklearn.preprocessing import LabelEncoder # LabelEnCoder()\n",
    "import warnings\n",
    "import pandas as pd\n",
    "import numpy as np\n",
    "import matplotlib.pyplot as plt\n",
    "import seaborn as sns\n",
    "\n",
    "%matplotlib inline\n",
    "pd.options.mode.chained_assignment = None"
   ]
  },
  {
   "cell_type": "code",
   "execution_count": 2,
   "metadata": {},
   "outputs": [],
   "source": [
    "warnings.filterwarnings(\"ignore\")"
   ]
  },
  {
   "cell_type": "code",
   "execution_count": 3,
   "metadata": {},
   "outputs": [],
   "source": [
    "train = pd.read_csv(\"/Users/aethertsai/Desktop/python/titanic/train.csv\")\n",
    "test = pd.read_csv(\"/Users/aethertsai/Desktop/python/titanic/test.csv\")\n",
    "submit= pd.read_csv(\"/Users/aethertsai/Desktop/python/titanic/gender_submission.csv\")"
   ]
  },
  {
   "cell_type": "code",
   "execution_count": 56,
   "metadata": {},
   "outputs": [
    {
     "data": {
      "text/html": [
       "<div>\n",
       "<style scoped>\n",
       "    .dataframe tbody tr th:only-of-type {\n",
       "        vertical-align: middle;\n",
       "    }\n",
       "\n",
       "    .dataframe tbody tr th {\n",
       "        vertical-align: top;\n",
       "    }\n",
       "\n",
       "    .dataframe thead th {\n",
       "        text-align: right;\n",
       "    }\n",
       "</style>\n",
       "<table border=\"1\" class=\"dataframe\">\n",
       "  <thead>\n",
       "    <tr style=\"text-align: right;\">\n",
       "      <th></th>\n",
       "      <th>PassengerId</th>\n",
       "      <th>Survived</th>\n",
       "      <th>Pclass</th>\n",
       "      <th>Name</th>\n",
       "      <th>Sex</th>\n",
       "      <th>Age</th>\n",
       "      <th>SibSp</th>\n",
       "      <th>Parch</th>\n",
       "      <th>Ticket</th>\n",
       "      <th>Fare</th>\n",
       "      <th>Cabin</th>\n",
       "      <th>Embarked</th>\n",
       "    </tr>\n",
       "  </thead>\n",
       "  <tbody>\n",
       "    <tr>\n",
       "      <th>0</th>\n",
       "      <td>1</td>\n",
       "      <td>0</td>\n",
       "      <td>3</td>\n",
       "      <td>Braund, Mr. Owen Harris</td>\n",
       "      <td>male</td>\n",
       "      <td>22.0</td>\n",
       "      <td>1</td>\n",
       "      <td>0</td>\n",
       "      <td>A/5 21171</td>\n",
       "      <td>7.2500</td>\n",
       "      <td>NaN</td>\n",
       "      <td>S</td>\n",
       "    </tr>\n",
       "    <tr>\n",
       "      <th>1</th>\n",
       "      <td>2</td>\n",
       "      <td>1</td>\n",
       "      <td>1</td>\n",
       "      <td>Cumings, Mrs. John Bradley (Florence Briggs Th...</td>\n",
       "      <td>female</td>\n",
       "      <td>38.0</td>\n",
       "      <td>1</td>\n",
       "      <td>0</td>\n",
       "      <td>PC 17599</td>\n",
       "      <td>71.2833</td>\n",
       "      <td>C85</td>\n",
       "      <td>C</td>\n",
       "    </tr>\n",
       "    <tr>\n",
       "      <th>2</th>\n",
       "      <td>3</td>\n",
       "      <td>1</td>\n",
       "      <td>3</td>\n",
       "      <td>Heikkinen, Miss. Laina</td>\n",
       "      <td>female</td>\n",
       "      <td>26.0</td>\n",
       "      <td>0</td>\n",
       "      <td>0</td>\n",
       "      <td>STON/O2. 3101282</td>\n",
       "      <td>7.9250</td>\n",
       "      <td>NaN</td>\n",
       "      <td>S</td>\n",
       "    </tr>\n",
       "    <tr>\n",
       "      <th>3</th>\n",
       "      <td>4</td>\n",
       "      <td>1</td>\n",
       "      <td>1</td>\n",
       "      <td>Futrelle, Mrs. Jacques Heath (Lily May Peel)</td>\n",
       "      <td>female</td>\n",
       "      <td>35.0</td>\n",
       "      <td>1</td>\n",
       "      <td>0</td>\n",
       "      <td>113803</td>\n",
       "      <td>53.1000</td>\n",
       "      <td>C123</td>\n",
       "      <td>S</td>\n",
       "    </tr>\n",
       "    <tr>\n",
       "      <th>4</th>\n",
       "      <td>5</td>\n",
       "      <td>0</td>\n",
       "      <td>3</td>\n",
       "      <td>Allen, Mr. William Henry</td>\n",
       "      <td>male</td>\n",
       "      <td>35.0</td>\n",
       "      <td>0</td>\n",
       "      <td>0</td>\n",
       "      <td>373450</td>\n",
       "      <td>8.0500</td>\n",
       "      <td>NaN</td>\n",
       "      <td>S</td>\n",
       "    </tr>\n",
       "  </tbody>\n",
       "</table>\n",
       "</div>"
      ],
      "text/plain": [
       "   PassengerId  Survived  Pclass  \\\n",
       "0            1         0       3   \n",
       "1            2         1       1   \n",
       "2            3         1       3   \n",
       "3            4         1       1   \n",
       "4            5         0       3   \n",
       "\n",
       "                                                Name     Sex   Age  SibSp  \\\n",
       "0                            Braund, Mr. Owen Harris    male  22.0      1   \n",
       "1  Cumings, Mrs. John Bradley (Florence Briggs Th...  female  38.0      1   \n",
       "2                             Heikkinen, Miss. Laina  female  26.0      0   \n",
       "3       Futrelle, Mrs. Jacques Heath (Lily May Peel)  female  35.0      1   \n",
       "4                           Allen, Mr. William Henry    male  35.0      0   \n",
       "\n",
       "   Parch            Ticket     Fare Cabin Embarked  \n",
       "0      0         A/5 21171   7.2500   NaN        S  \n",
       "1      0          PC 17599  71.2833   C85        C  \n",
       "2      0  STON/O2. 3101282   7.9250   NaN        S  \n",
       "3      0            113803  53.1000  C123        S  \n",
       "4      0            373450   8.0500   NaN        S  "
      ]
     },
     "execution_count": 56,
     "metadata": {},
     "output_type": "execute_result"
    }
   ],
   "source": [
    "train.head()"
   ]
  },
  {
   "cell_type": "code",
   "execution_count": 5,
   "metadata": {},
   "outputs": [
    {
     "name": "stdout",
     "output_type": "stream",
     "text": [
      "<class 'pandas.core.frame.DataFrame'>\n",
      "RangeIndex: 891 entries, 0 to 890\n",
      "Data columns (total 12 columns):\n",
      "PassengerId    891 non-null int64\n",
      "Survived       891 non-null int64\n",
      "Pclass         891 non-null int64\n",
      "Name           891 non-null object\n",
      "Sex            891 non-null object\n",
      "Age            714 non-null float64\n",
      "SibSp          891 non-null int64\n",
      "Parch          891 non-null int64\n",
      "Ticket         891 non-null object\n",
      "Fare           891 non-null float64\n",
      "Cabin          204 non-null object\n",
      "Embarked       889 non-null object\n",
      "dtypes: float64(2), int64(5), object(5)\n",
      "memory usage: 83.6+ KB\n"
     ]
    }
   ],
   "source": [
    "train.info()"
   ]
  },
  {
   "cell_type": "code",
   "execution_count": 6,
   "metadata": {},
   "outputs": [
    {
     "name": "stdout",
     "output_type": "stream",
     "text": [
      "<class 'pandas.core.frame.DataFrame'>\n",
      "RangeIndex: 418 entries, 0 to 417\n",
      "Data columns (total 11 columns):\n",
      "PassengerId    418 non-null int64\n",
      "Pclass         418 non-null int64\n",
      "Name           418 non-null object\n",
      "Sex            418 non-null object\n",
      "Age            332 non-null float64\n",
      "SibSp          418 non-null int64\n",
      "Parch          418 non-null int64\n",
      "Ticket         418 non-null object\n",
      "Fare           417 non-null float64\n",
      "Cabin          91 non-null object\n",
      "Embarked       418 non-null object\n",
      "dtypes: float64(2), int64(4), object(5)\n",
      "memory usage: 36.0+ KB\n"
     ]
    }
   ],
   "source": [
    "test.info()"
   ]
  },
  {
   "cell_type": "code",
   "execution_count": 7,
   "metadata": {},
   "outputs": [
    {
     "data": {
      "text/html": [
       "<div>\n",
       "<style scoped>\n",
       "    .dataframe tbody tr th:only-of-type {\n",
       "        vertical-align: middle;\n",
       "    }\n",
       "\n",
       "    .dataframe tbody tr th {\n",
       "        vertical-align: top;\n",
       "    }\n",
       "\n",
       "    .dataframe thead th {\n",
       "        text-align: right;\n",
       "    }\n",
       "</style>\n",
       "<table border=\"1\" class=\"dataframe\">\n",
       "  <thead>\n",
       "    <tr style=\"text-align: right;\">\n",
       "      <th></th>\n",
       "      <th>PassengerId</th>\n",
       "      <th>Survived</th>\n",
       "      <th>Pclass</th>\n",
       "      <th>Age</th>\n",
       "      <th>SibSp</th>\n",
       "      <th>Parch</th>\n",
       "      <th>Fare</th>\n",
       "    </tr>\n",
       "  </thead>\n",
       "  <tbody>\n",
       "    <tr>\n",
       "      <th>count</th>\n",
       "      <td>891.000000</td>\n",
       "      <td>891.000000</td>\n",
       "      <td>891.000000</td>\n",
       "      <td>714.000000</td>\n",
       "      <td>891.000000</td>\n",
       "      <td>891.000000</td>\n",
       "      <td>891.000000</td>\n",
       "    </tr>\n",
       "    <tr>\n",
       "      <th>mean</th>\n",
       "      <td>446.000000</td>\n",
       "      <td>0.383838</td>\n",
       "      <td>2.308642</td>\n",
       "      <td>29.699118</td>\n",
       "      <td>0.523008</td>\n",
       "      <td>0.381594</td>\n",
       "      <td>32.204208</td>\n",
       "    </tr>\n",
       "    <tr>\n",
       "      <th>std</th>\n",
       "      <td>257.353842</td>\n",
       "      <td>0.486592</td>\n",
       "      <td>0.836071</td>\n",
       "      <td>14.526497</td>\n",
       "      <td>1.102743</td>\n",
       "      <td>0.806057</td>\n",
       "      <td>49.693429</td>\n",
       "    </tr>\n",
       "    <tr>\n",
       "      <th>min</th>\n",
       "      <td>1.000000</td>\n",
       "      <td>0.000000</td>\n",
       "      <td>1.000000</td>\n",
       "      <td>0.420000</td>\n",
       "      <td>0.000000</td>\n",
       "      <td>0.000000</td>\n",
       "      <td>0.000000</td>\n",
       "    </tr>\n",
       "    <tr>\n",
       "      <th>25%</th>\n",
       "      <td>223.500000</td>\n",
       "      <td>0.000000</td>\n",
       "      <td>2.000000</td>\n",
       "      <td>20.125000</td>\n",
       "      <td>0.000000</td>\n",
       "      <td>0.000000</td>\n",
       "      <td>7.910400</td>\n",
       "    </tr>\n",
       "    <tr>\n",
       "      <th>50%</th>\n",
       "      <td>446.000000</td>\n",
       "      <td>0.000000</td>\n",
       "      <td>3.000000</td>\n",
       "      <td>28.000000</td>\n",
       "      <td>0.000000</td>\n",
       "      <td>0.000000</td>\n",
       "      <td>14.454200</td>\n",
       "    </tr>\n",
       "    <tr>\n",
       "      <th>75%</th>\n",
       "      <td>668.500000</td>\n",
       "      <td>1.000000</td>\n",
       "      <td>3.000000</td>\n",
       "      <td>38.000000</td>\n",
       "      <td>1.000000</td>\n",
       "      <td>0.000000</td>\n",
       "      <td>31.000000</td>\n",
       "    </tr>\n",
       "    <tr>\n",
       "      <th>max</th>\n",
       "      <td>891.000000</td>\n",
       "      <td>1.000000</td>\n",
       "      <td>3.000000</td>\n",
       "      <td>80.000000</td>\n",
       "      <td>8.000000</td>\n",
       "      <td>6.000000</td>\n",
       "      <td>512.329200</td>\n",
       "    </tr>\n",
       "  </tbody>\n",
       "</table>\n",
       "</div>"
      ],
      "text/plain": [
       "       PassengerId    Survived      Pclass         Age       SibSp  \\\n",
       "count   891.000000  891.000000  891.000000  714.000000  891.000000   \n",
       "mean    446.000000    0.383838    2.308642   29.699118    0.523008   \n",
       "std     257.353842    0.486592    0.836071   14.526497    1.102743   \n",
       "min       1.000000    0.000000    1.000000    0.420000    0.000000   \n",
       "25%     223.500000    0.000000    2.000000   20.125000    0.000000   \n",
       "50%     446.000000    0.000000    3.000000   28.000000    0.000000   \n",
       "75%     668.500000    1.000000    3.000000   38.000000    1.000000   \n",
       "max     891.000000    1.000000    3.000000   80.000000    8.000000   \n",
       "\n",
       "            Parch        Fare  \n",
       "count  891.000000  891.000000  \n",
       "mean     0.381594   32.204208  \n",
       "std      0.806057   49.693429  \n",
       "min      0.000000    0.000000  \n",
       "25%      0.000000    7.910400  \n",
       "50%      0.000000   14.454200  \n",
       "75%      0.000000   31.000000  \n",
       "max      6.000000  512.329200  "
      ]
     },
     "execution_count": 7,
     "metadata": {},
     "output_type": "execute_result"
    }
   ],
   "source": [
    "train.describe()"
   ]
  },
  {
   "cell_type": "code",
   "execution_count": 8,
   "metadata": {},
   "outputs": [],
   "source": [
    "data = train.append(test)"
   ]
  },
  {
   "cell_type": "code",
   "execution_count": 9,
   "metadata": {},
   "outputs": [],
   "source": [
    "data.reset_index(inplace = True, drop = True)"
   ]
  },
  {
   "cell_type": "code",
   "execution_count": 10,
   "metadata": {},
   "outputs": [
    {
     "data": {
      "text/plain": [
       "<matplotlib.axes._subplots.AxesSubplot at 0x11c033080>"
      ]
     },
     "execution_count": 10,
     "metadata": {},
     "output_type": "execute_result"
    },
    {
     "data": {
      "image/png": "[encoded data removed]",
      "text/plain": [
       "<Figure size 432x288 with 1 Axes>"
      ]
     },
     "metadata": {
      "needs_background": "light"
     },
     "output_type": "display_data"
    }
   ],
   "source": [
    "sns.countplot(data[\"Survived\"])"
   ]
  },
  {
   "cell_type": "code",
   "execution_count": 11,
   "metadata": {},
   "outputs": [
    {
     "data": {
      "text/plain": [
       "<matplotlib.axes._subplots.AxesSubplot at 0x11c24ff28>"
      ]
     },
     "execution_count": 11,
     "metadata": {},
     "output_type": "execute_result"
    },
    {
     "data": {
      "image/png": "[encoded data removed]",
      "text/plain": [
       "<Figure size 432x288 with 1 Axes>"
      ]
     },
     "metadata": {
      "needs_background": "light"
     },
     "output_type": "display_data"
    }
   ],
   "source": [
    "sns.countplot(data[\"Pclass\"], hue = data[\"Survived\"])"
   ]
  },
  {
   "cell_type": "code",
   "execution_count": 12,
   "metadata": {},
   "outputs": [
    {
     "data": {
      "text/plain": [
       "<matplotlib.axes._subplots.AxesSubplot at 0x108ac3a20>"
      ]
     },
     "execution_count": 12,
     "metadata": {},
     "output_type": "execute_result"
    },
    {
     "data": {
      "image/png": "[encoded data removed]",
      "text/plain": [
       "<Figure size 432x288 with 1 Axes>"
      ]
     },
     "metadata": {
      "needs_background": "light"
     },
     "output_type": "display_data"
    }
   ],
   "source": [
    "sns.countplot(data[\"Sex\"], hue = data[\"Survived\"])"
   ]
  },
  {
   "cell_type": "code",
   "execution_count": 13,
   "metadata": {},
   "outputs": [
    {
     "data": {
      "text/plain": [
       "<seaborn.axisgrid.FacetGrid at 0x108b40438>"
      ]
     },
     "execution_count": 13,
     "metadata": {},
     "output_type": "execute_result"
    },
    {
     "data": {
      "image/png": "[encoded data removed]",
      "text/plain": [
       "<Figure size 432x216 with 2 Axes>"
      ]
     },
     "metadata": {
      "needs_background": "light"
     },
     "output_type": "display_data"
    }
   ],
   "source": [
    "g = sns.FacetGrid(data, col='Survived')\n",
    "g.map(sns.distplot, 'Age', kde=False)"
   ]
  },
  {
   "cell_type": "code",
   "execution_count": 14,
   "metadata": {},
   "outputs": [
    {
     "data": {
      "text/plain": [
       "<seaborn.axisgrid.FacetGrid at 0x11e39af28>"
      ]
     },
     "execution_count": 14,
     "metadata": {},
     "output_type": "execute_result"
    },
    {
     "data": {
      "image/png": "[encoded data removed]",
      "text/plain": [
       "<Figure size 432x216 with 2 Axes>"
      ]
     },
     "metadata": {
      "needs_background": "light"
     },
     "output_type": "display_data"
    }
   ],
   "source": [
    "g = sns.FacetGrid(data, col='Survived')\n",
    "g.map(sns.distplot, 'Fare', kde=False)"
   ]
  },
  {
   "cell_type": "code",
   "execution_count": 15,
   "metadata": {},
   "outputs": [
    {
     "data": {
      "text/plain": [
       "<seaborn.axisgrid.FacetGrid at 0x11e5eb550>"
      ]
     },
     "execution_count": 15,
     "metadata": {},
     "output_type": "execute_result"
    },
    {
     "data": {
      "image/png": "[encoded data removed]",
      "text/plain": [
       "<Figure size 432x216 with 2 Axes>"
      ]
     },
     "metadata": {
      "needs_background": "light"
     },
     "output_type": "display_data"
    }
   ],
   "source": [
    "g = sns.FacetGrid(data, col='Survived')\n",
    "g.map(sns.distplot, 'Parch', kde=False)"
   ]
  },
  {
   "cell_type": "code",
   "execution_count": 16,
   "metadata": {},
   "outputs": [
    {
     "data": {
      "text/plain": [
       "<seaborn.axisgrid.FacetGrid at 0x11e74a7f0>"
      ]
     },
     "execution_count": 16,
     "metadata": {},
     "output_type": "execute_result"
    },
    {
     "data": {
      "image/png": "[encoded data removed]",
      "text/plain": [
       "<Figure size 432x216 with 2 Axes>"
      ]
     },
     "metadata": {
      "needs_background": "light"
     },
     "output_type": "display_data"
    }
   ],
   "source": [
    "g = sns.FacetGrid(data, col='Survived')\n",
    "g.map(sns.distplot, 'SibSp', kde=False)\n"
   ]
  },
  {
   "cell_type": "code",
   "execution_count": 17,
   "metadata": {},
   "outputs": [],
   "source": [
    "data['Family_Size'] = data['Parch'] + data['SibSp']"
   ]
  },
  {
   "cell_type": "code",
   "execution_count": 18,
   "metadata": {},
   "outputs": [
    {
     "data": {
      "text/plain": [
       "<seaborn.axisgrid.FacetGrid at 0x11e978668>"
      ]
     },
     "execution_count": 18,
     "metadata": {},
     "output_type": "execute_result"
    },
    {
     "data": {
      "image/png": "[encoded data removed]",
      "text/plain": [
       "<Figure size 432x216 with 2 Axes>"
      ]
     },
     "metadata": {
      "needs_background": "light"
     },
     "output_type": "display_data"
    }
   ],
   "source": [
    "g = sns.FacetGrid(data, col='Survived')\n",
    "g.map(sns.distplot, 'Family_Size', kde=False)"
   ]
  },
  {
   "cell_type": "code",
   "execution_count": 19,
   "metadata": {},
   "outputs": [],
   "source": [
    "data['Title1'] = data['Name'].str.split(\", \", expand=True)[1]"
   ]
  },
  {
   "cell_type": "code",
   "execution_count": 20,
   "metadata": {},
   "outputs": [
    {
     "data": {
      "text/html": [
       "<div>\n",
       "<style scoped>\n",
       "    .dataframe tbody tr th:only-of-type {\n",
       "        vertical-align: middle;\n",
       "    }\n",
       "\n",
       "    .dataframe tbody tr th {\n",
       "        vertical-align: top;\n",
       "    }\n",
       "\n",
       "    .dataframe thead th {\n",
       "        text-align: right;\n",
       "    }\n",
       "</style>\n",
       "<table border=\"1\" class=\"dataframe\">\n",
       "  <thead>\n",
       "    <tr style=\"text-align: right;\">\n",
       "      <th></th>\n",
       "      <th>0</th>\n",
       "      <th>1</th>\n",
       "    </tr>\n",
       "  </thead>\n",
       "  <tbody>\n",
       "    <tr>\n",
       "      <th>0</th>\n",
       "      <td>Braund</td>\n",
       "      <td>Mr. Owen Harris</td>\n",
       "    </tr>\n",
       "    <tr>\n",
       "      <th>1</th>\n",
       "      <td>Cumings</td>\n",
       "      <td>Mrs. John Bradley (Florence Briggs Thayer)</td>\n",
       "    </tr>\n",
       "    <tr>\n",
       "      <th>2</th>\n",
       "      <td>Heikkinen</td>\n",
       "      <td>Miss. Laina</td>\n",
       "    </tr>\n",
       "  </tbody>\n",
       "</table>\n",
       "</div>"
      ],
      "text/plain": [
       "           0                                           1\n",
       "0     Braund                             Mr. Owen Harris\n",
       "1    Cumings  Mrs. John Bradley (Florence Briggs Thayer)\n",
       "2  Heikkinen                                 Miss. Laina"
      ]
     },
     "execution_count": 20,
     "metadata": {},
     "output_type": "execute_result"
    }
   ],
   "source": [
    "data['Name'].str.split(\", \", expand=True).head(3)"
   ]
  },
  {
   "cell_type": "code",
   "execution_count": 21,
   "metadata": {},
   "outputs": [
    {
     "data": {
      "text/plain": [
       "0                               Mr. Owen Harris\n",
       "1    Mrs. John Bradley (Florence Briggs Thayer)\n",
       "2                                   Miss. Laina\n",
       "Name: Title1, dtype: object"
      ]
     },
     "execution_count": 21,
     "metadata": {},
     "output_type": "execute_result"
    }
   ],
   "source": [
    "data['Title1'].head(3)"
   ]
  },
  {
   "cell_type": "code",
   "execution_count": 22,
   "metadata": {},
   "outputs": [],
   "source": [
    "data['Title1'] = data['Title1'].str.split(\".\", expand=True)[0]"
   ]
  },
  {
   "cell_type": "code",
   "execution_count": 23,
   "metadata": {},
   "outputs": [
    {
     "data": {
      "text/plain": [
       "0      Mr\n",
       "1     Mrs\n",
       "2    Miss\n",
       "Name: Title1, dtype: object"
      ]
     },
     "execution_count": 23,
     "metadata": {},
     "output_type": "execute_result"
    }
   ],
   "source": [
    "data['Title1'].head(3)"
   ]
  },
  {
   "cell_type": "code",
   "execution_count": 24,
   "metadata": {},
   "outputs": [
    {
     "data": {
      "text/plain": [
       "array(['Mr', 'Mrs', 'Miss', 'Master', 'Don', 'Rev', 'Dr', 'Mme', 'Ms',\n",
       "       'Major', 'Lady', 'Sir', 'Mlle', 'Col', 'Capt', 'the Countess',\n",
       "       'Jonkheer', 'Dona'], dtype=object)"
      ]
     },
     "execution_count": 24,
     "metadata": {},
     "output_type": "execute_result"
    }
   ],
   "source": [
    "data['Title1'].unique()"
   ]
  },
  {
   "cell_type": "code",
   "execution_count": 25,
   "metadata": {},
   "outputs": [
    {
     "data": {
      "text/html": [
       "<style  type=\"text/css\" >\n",
       "    #T_0a9561b6_e734_11e9_a673_f07960223b8erow0_col0 {\n",
       "            background-color:  #ffff66;\n",
       "            color:  #000000;\n",
       "        }    #T_0a9561b6_e734_11e9_a673_f07960223b8erow0_col1 {\n",
       "            background-color:  #ffff66;\n",
       "            color:  #000000;\n",
       "        }    #T_0a9561b6_e734_11e9_a673_f07960223b8erow0_col2 {\n",
       "            background-color:  #ffff66;\n",
       "            color:  #000000;\n",
       "        }    #T_0a9561b6_e734_11e9_a673_f07960223b8erow0_col3 {\n",
       "            background-color:  #008066;\n",
       "            color:  #f1f1f1;\n",
       "        }    #T_0a9561b6_e734_11e9_a673_f07960223b8erow0_col4 {\n",
       "            background-color:  #ffff66;\n",
       "            color:  #000000;\n",
       "        }    #T_0a9561b6_e734_11e9_a673_f07960223b8erow0_col5 {\n",
       "            background-color:  #ffff66;\n",
       "            color:  #000000;\n",
       "        }    #T_0a9561b6_e734_11e9_a673_f07960223b8erow0_col6 {\n",
       "            background-color:  #008066;\n",
       "            color:  #f1f1f1;\n",
       "        }    #T_0a9561b6_e734_11e9_a673_f07960223b8erow0_col7 {\n",
       "            background-color:  #ffff66;\n",
       "            color:  #000000;\n",
       "        }    #T_0a9561b6_e734_11e9_a673_f07960223b8erow0_col8 {\n",
       "            background-color:  #ffff66;\n",
       "            color:  #000000;\n",
       "        }    #T_0a9561b6_e734_11e9_a673_f07960223b8erow0_col9 {\n",
       "            background-color:  #008066;\n",
       "            color:  #f1f1f1;\n",
       "        }    #T_0a9561b6_e734_11e9_a673_f07960223b8erow0_col10 {\n",
       "            background-color:  #008066;\n",
       "            color:  #f1f1f1;\n",
       "        }    #T_0a9561b6_e734_11e9_a673_f07960223b8erow0_col11 {\n",
       "            background-color:  #008066;\n",
       "            color:  #f1f1f1;\n",
       "        }    #T_0a9561b6_e734_11e9_a673_f07960223b8erow0_col12 {\n",
       "            background-color:  #ffff66;\n",
       "            color:  #000000;\n",
       "        }    #T_0a9561b6_e734_11e9_a673_f07960223b8erow0_col13 {\n",
       "            background-color:  #008066;\n",
       "            color:  #f1f1f1;\n",
       "        }    #T_0a9561b6_e734_11e9_a673_f07960223b8erow0_col14 {\n",
       "            background-color:  #008066;\n",
       "            color:  #f1f1f1;\n",
       "        }    #T_0a9561b6_e734_11e9_a673_f07960223b8erow0_col15 {\n",
       "            background-color:  #ffff66;\n",
       "            color:  #000000;\n",
       "        }    #T_0a9561b6_e734_11e9_a673_f07960223b8erow0_col16 {\n",
       "            background-color:  #ffff66;\n",
       "            color:  #000000;\n",
       "        }    #T_0a9561b6_e734_11e9_a673_f07960223b8erow0_col17 {\n",
       "            background-color:  #008066;\n",
       "            color:  #f1f1f1;\n",
       "        }    #T_0a9561b6_e734_11e9_a673_f07960223b8erow1_col0 {\n",
       "            background-color:  #008066;\n",
       "            color:  #f1f1f1;\n",
       "        }    #T_0a9561b6_e734_11e9_a673_f07960223b8erow1_col1 {\n",
       "            background-color:  #008066;\n",
       "            color:  #f1f1f1;\n",
       "        }    #T_0a9561b6_e734_11e9_a673_f07960223b8erow1_col2 {\n",
       "            background-color:  #008066;\n",
       "            color:  #f1f1f1;\n",
       "        }    #T_0a9561b6_e734_11e9_a673_f07960223b8erow1_col3 {\n",
       "            background-color:  #ffff66;\n",
       "            color:  #000000;\n",
       "        }    #T_0a9561b6_e734_11e9_a673_f07960223b8erow1_col4 {\n",
       "            background-color:  #008066;\n",
       "            color:  #f1f1f1;\n",
       "        }    #T_0a9561b6_e734_11e9_a673_f07960223b8erow1_col5 {\n",
       "            background-color:  #008066;\n",
       "            color:  #f1f1f1;\n",
       "        }    #T_0a9561b6_e734_11e9_a673_f07960223b8erow1_col6 {\n",
       "            background-color:  #ffff66;\n",
       "            color:  #000000;\n",
       "        }    #T_0a9561b6_e734_11e9_a673_f07960223b8erow1_col7 {\n",
       "            background-color:  #008066;\n",
       "            color:  #f1f1f1;\n",
       "        }    #T_0a9561b6_e734_11e9_a673_f07960223b8erow1_col8 {\n",
       "            background-color:  #008066;\n",
       "            color:  #f1f1f1;\n",
       "        }    #T_0a9561b6_e734_11e9_a673_f07960223b8erow1_col9 {\n",
       "            background-color:  #ffff66;\n",
       "            color:  #000000;\n",
       "        }    #T_0a9561b6_e734_11e9_a673_f07960223b8erow1_col10 {\n",
       "            background-color:  #ffff66;\n",
       "            color:  #000000;\n",
       "        }    #T_0a9561b6_e734_11e9_a673_f07960223b8erow1_col11 {\n",
       "            background-color:  #ffff66;\n",
       "            color:  #000000;\n",
       "        }    #T_0a9561b6_e734_11e9_a673_f07960223b8erow1_col12 {\n",
       "            background-color:  #008066;\n",
       "            color:  #f1f1f1;\n",
       "        }    #T_0a9561b6_e734_11e9_a673_f07960223b8erow1_col13 {\n",
       "            background-color:  #ffff66;\n",
       "            color:  #000000;\n",
       "        }    #T_0a9561b6_e734_11e9_a673_f07960223b8erow1_col14 {\n",
       "            background-color:  #ffff66;\n",
       "            color:  #000000;\n",
       "        }    #T_0a9561b6_e734_11e9_a673_f07960223b8erow1_col15 {\n",
       "            background-color:  #008066;\n",
       "            color:  #f1f1f1;\n",
       "        }    #T_0a9561b6_e734_11e9_a673_f07960223b8erow1_col16 {\n",
       "            background-color:  #008066;\n",
       "            color:  #f1f1f1;\n",
       "        }    #T_0a9561b6_e734_11e9_a673_f07960223b8erow1_col17 {\n",
       "            background-color:  #ffff66;\n",
       "            color:  #000000;\n",
       "        }</style><table id=\"T_0a9561b6_e734_11e9_a673_f07960223b8e\" ><thead>    <tr>        <th class=\"index_name level0\" >Title1</th>        <th class=\"col_heading level0 col0\" >Capt</th>        <th class=\"col_heading level0 col1\" >Col</th>        <th class=\"col_heading level0 col2\" >Don</th>        <th class=\"col_heading level0 col3\" >Dona</th>        <th class=\"col_heading level0 col4\" >Dr</th>        <th class=\"col_heading level0 col5\" >Jonkheer</th>        <th class=\"col_heading level0 col6\" >Lady</th>        <th class=\"col_heading level0 col7\" >Major</th>        <th class=\"col_heading level0 col8\" >Master</th>        <th class=\"col_heading level0 col9\" >Miss</th>        <th class=\"col_heading level0 col10\" >Mlle</th>        <th class=\"col_heading level0 col11\" >Mme</th>        <th class=\"col_heading level0 col12\" >Mr</th>        <th class=\"col_heading level0 col13\" >Mrs</th>        <th class=\"col_heading level0 col14\" >Ms</th>        <th class=\"col_heading level0 col15\" >Rev</th>        <th class=\"col_heading level0 col16\" >Sir</th>        <th class=\"col_heading level0 col17\" >the Countess</th>    </tr>    <tr>        <th class=\"index_name level0\" >Sex</th>        <th class=\"blank\" ></th>        <th class=\"blank\" ></th>        <th class=\"blank\" ></th>        <th class=\"blank\" ></th>        <th class=\"blank\" ></th>        <th class=\"blank\" ></th>        <th class=\"blank\" ></th>        <th class=\"blank\" ></th>        <th class=\"blank\" ></th>        <th class=\"blank\" ></th>        <th class=\"blank\" ></th>        <th class=\"blank\" ></th>        <th class=\"blank\" ></th>        <th class=\"blank\" ></th>        <th class=\"blank\" ></th>        <th class=\"blank\" ></th>        <th class=\"blank\" ></th>        <th class=\"blank\" ></th>    </tr></thead><tbody>\n",
       "                <tr>\n",
       "                        <th id=\"T_0a9561b6_e734_11e9_a673_f07960223b8elevel0_row0\" class=\"row_heading level0 row0\" >female</th>\n",
       "                        <td id=\"T_0a9561b6_e734_11e9_a673_f07960223b8erow0_col0\" class=\"data row0 col0\" >0</td>\n",
       "                        <td id=\"T_0a9561b6_e734_11e9_a673_f07960223b8erow0_col1\" class=\"data row0 col1\" >0</td>\n",
       "                        <td id=\"T_0a9561b6_e734_11e9_a673_f07960223b8erow0_col2\" class=\"data row0 col2\" >0</td>\n",
       "                        <td id=\"T_0a9561b6_e734_11e9_a673_f07960223b8erow0_col3\" class=\"data row0 col3\" >1</td>\n",
       "                        <td id=\"T_0a9561b6_e734_11e9_a673_f07960223b8erow0_col4\" class=\"data row0 col4\" >1</td>\n",
       "                        <td id=\"T_0a9561b6_e734_11e9_a673_f07960223b8erow0_col5\" class=\"data row0 col5\" >0</td>\n",
       "                        <td id=\"T_0a9561b6_e734_11e9_a673_f07960223b8erow0_col6\" class=\"data row0 col6\" >1</td>\n",
       "                        <td id=\"T_0a9561b6_e734_11e9_a673_f07960223b8erow0_col7\" class=\"data row0 col7\" >0</td>\n",
       "                        <td id=\"T_0a9561b6_e734_11e9_a673_f07960223b8erow0_col8\" class=\"data row0 col8\" >0</td>\n",
       "                        <td id=\"T_0a9561b6_e734_11e9_a673_f07960223b8erow0_col9\" class=\"data row0 col9\" >260</td>\n",
       "                        <td id=\"T_0a9561b6_e734_11e9_a673_f07960223b8erow0_col10\" class=\"data row0 col10\" >2</td>\n",
       "                        <td id=\"T_0a9561b6_e734_11e9_a673_f07960223b8erow0_col11\" class=\"data row0 col11\" >1</td>\n",
       "                        <td id=\"T_0a9561b6_e734_11e9_a673_f07960223b8erow0_col12\" class=\"data row0 col12\" >0</td>\n",
       "                        <td id=\"T_0a9561b6_e734_11e9_a673_f07960223b8erow0_col13\" class=\"data row0 col13\" >197</td>\n",
       "                        <td id=\"T_0a9561b6_e734_11e9_a673_f07960223b8erow0_col14\" class=\"data row0 col14\" >2</td>\n",
       "                        <td id=\"T_0a9561b6_e734_11e9_a673_f07960223b8erow0_col15\" class=\"data row0 col15\" >0</td>\n",
       "                        <td id=\"T_0a9561b6_e734_11e9_a673_f07960223b8erow0_col16\" class=\"data row0 col16\" >0</td>\n",
       "                        <td id=\"T_0a9561b6_e734_11e9_a673_f07960223b8erow0_col17\" class=\"data row0 col17\" >1</td>\n",
       "            </tr>\n",
       "            <tr>\n",
       "                        <th id=\"T_0a9561b6_e734_11e9_a673_f07960223b8elevel0_row1\" class=\"row_heading level0 row1\" >male</th>\n",
       "                        <td id=\"T_0a9561b6_e734_11e9_a673_f07960223b8erow1_col0\" class=\"data row1 col0\" >1</td>\n",
       "                        <td id=\"T_0a9561b6_e734_11e9_a673_f07960223b8erow1_col1\" class=\"data row1 col1\" >4</td>\n",
       "                        <td id=\"T_0a9561b6_e734_11e9_a673_f07960223b8erow1_col2\" class=\"data row1 col2\" >1</td>\n",
       "                        <td id=\"T_0a9561b6_e734_11e9_a673_f07960223b8erow1_col3\" class=\"data row1 col3\" >0</td>\n",
       "                        <td id=\"T_0a9561b6_e734_11e9_a673_f07960223b8erow1_col4\" class=\"data row1 col4\" >7</td>\n",
       "                        <td id=\"T_0a9561b6_e734_11e9_a673_f07960223b8erow1_col5\" class=\"data row1 col5\" >1</td>\n",
       "                        <td id=\"T_0a9561b6_e734_11e9_a673_f07960223b8erow1_col6\" class=\"data row1 col6\" >0</td>\n",
       "                        <td id=\"T_0a9561b6_e734_11e9_a673_f07960223b8erow1_col7\" class=\"data row1 col7\" >2</td>\n",
       "                        <td id=\"T_0a9561b6_e734_11e9_a673_f07960223b8erow1_col8\" class=\"data row1 col8\" >61</td>\n",
       "                        <td id=\"T_0a9561b6_e734_11e9_a673_f07960223b8erow1_col9\" class=\"data row1 col9\" >0</td>\n",
       "                        <td id=\"T_0a9561b6_e734_11e9_a673_f07960223b8erow1_col10\" class=\"data row1 col10\" >0</td>\n",
       "                        <td id=\"T_0a9561b6_e734_11e9_a673_f07960223b8erow1_col11\" class=\"data row1 col11\" >0</td>\n",
       "                        <td id=\"T_0a9561b6_e734_11e9_a673_f07960223b8erow1_col12\" class=\"data row1 col12\" >757</td>\n",
       "                        <td id=\"T_0a9561b6_e734_11e9_a673_f07960223b8erow1_col13\" class=\"data row1 col13\" >0</td>\n",
       "                        <td id=\"T_0a9561b6_e734_11e9_a673_f07960223b8erow1_col14\" class=\"data row1 col14\" >0</td>\n",
       "                        <td id=\"T_0a9561b6_e734_11e9_a673_f07960223b8erow1_col15\" class=\"data row1 col15\" >8</td>\n",
       "                        <td id=\"T_0a9561b6_e734_11e9_a673_f07960223b8erow1_col16\" class=\"data row1 col16\" >1</td>\n",
       "                        <td id=\"T_0a9561b6_e734_11e9_a673_f07960223b8erow1_col17\" class=\"data row1 col17\" >0</td>\n",
       "            </tr>\n",
       "    </tbody></table>"
      ],
      "text/plain": [
       "<pandas.io.formats.style.Styler at 0x11ec9f828>"
      ]
     },
     "execution_count": 25,
     "metadata": {},
     "output_type": "execute_result"
    }
   ],
   "source": [
    "pd.crosstab(data['Title1'],data['Sex']).T.style.background_gradient(cmap='summer_r')"
   ]
  },
  {
   "cell_type": "code",
   "execution_count": 26,
   "metadata": {},
   "outputs": [
    {
     "data": {
      "text/html": [
       "<style  type=\"text/css\" >\n",
       "    #T_0aa43f38_e734_11e9_a673_f07960223b8erow0_col0 {\n",
       "            background-color:  #008066;\n",
       "            color:  #f1f1f1;\n",
       "        }    #T_0aa43f38_e734_11e9_a673_f07960223b8erow0_col1 {\n",
       "            background-color:  #ffff66;\n",
       "            color:  #000000;\n",
       "        }    #T_0aa43f38_e734_11e9_a673_f07960223b8erow0_col2 {\n",
       "            background-color:  #008066;\n",
       "            color:  #f1f1f1;\n",
       "        }    #T_0aa43f38_e734_11e9_a673_f07960223b8erow0_col3 {\n",
       "            background-color:  #008066;\n",
       "            color:  #f1f1f1;\n",
       "        }    #T_0aa43f38_e734_11e9_a673_f07960223b8erow0_col4 {\n",
       "            background-color:  #008066;\n",
       "            color:  #f1f1f1;\n",
       "        }    #T_0aa43f38_e734_11e9_a673_f07960223b8erow0_col5 {\n",
       "            background-color:  #ffff66;\n",
       "            color:  #000000;\n",
       "        }    #T_0aa43f38_e734_11e9_a673_f07960223b8erow0_col6 {\n",
       "            background-color:  #ffff66;\n",
       "            color:  #000000;\n",
       "        }    #T_0aa43f38_e734_11e9_a673_f07960223b8erow0_col7 {\n",
       "            background-color:  #ffff66;\n",
       "            color:  #000000;\n",
       "        }    #T_0aa43f38_e734_11e9_a673_f07960223b8erow0_col8 {\n",
       "            background-color:  #ffff66;\n",
       "            color:  #000000;\n",
       "        }    #T_0aa43f38_e734_11e9_a673_f07960223b8erow0_col9 {\n",
       "            background-color:  #ffff66;\n",
       "            color:  #000000;\n",
       "        }    #T_0aa43f38_e734_11e9_a673_f07960223b8erow0_col10 {\n",
       "            background-color:  #ffff66;\n",
       "            color:  #000000;\n",
       "        }    #T_0aa43f38_e734_11e9_a673_f07960223b8erow0_col11 {\n",
       "            background-color:  #008066;\n",
       "            color:  #f1f1f1;\n",
       "        }    #T_0aa43f38_e734_11e9_a673_f07960223b8erow0_col12 {\n",
       "            background-color:  #ffff66;\n",
       "            color:  #000000;\n",
       "        }    #T_0aa43f38_e734_11e9_a673_f07960223b8erow0_col13 {\n",
       "            background-color:  #ffff66;\n",
       "            color:  #000000;\n",
       "        }    #T_0aa43f38_e734_11e9_a673_f07960223b8erow0_col14 {\n",
       "            background-color:  #008066;\n",
       "            color:  #f1f1f1;\n",
       "        }    #T_0aa43f38_e734_11e9_a673_f07960223b8erow0_col15 {\n",
       "            background-color:  #ffff66;\n",
       "            color:  #000000;\n",
       "        }    #T_0aa43f38_e734_11e9_a673_f07960223b8erow0_col16 {\n",
       "            background-color:  #ffff66;\n",
       "            color:  #000000;\n",
       "        }    #T_0aa43f38_e734_11e9_a673_f07960223b8erow1_col0 {\n",
       "            background-color:  #ffff66;\n",
       "            color:  #000000;\n",
       "        }    #T_0aa43f38_e734_11e9_a673_f07960223b8erow1_col1 {\n",
       "            background-color:  #ffff66;\n",
       "            color:  #000000;\n",
       "        }    #T_0aa43f38_e734_11e9_a673_f07960223b8erow1_col2 {\n",
       "            background-color:  #ffff66;\n",
       "            color:  #000000;\n",
       "        }    #T_0aa43f38_e734_11e9_a673_f07960223b8erow1_col3 {\n",
       "            background-color:  #ffff66;\n",
       "            color:  #000000;\n",
       "        }    #T_0aa43f38_e734_11e9_a673_f07960223b8erow1_col4 {\n",
       "            background-color:  #ffff66;\n",
       "            color:  #000000;\n",
       "        }    #T_0aa43f38_e734_11e9_a673_f07960223b8erow1_col5 {\n",
       "            background-color:  #008066;\n",
       "            color:  #f1f1f1;\n",
       "        }    #T_0aa43f38_e734_11e9_a673_f07960223b8erow1_col6 {\n",
       "            background-color:  #ffff66;\n",
       "            color:  #000000;\n",
       "        }    #T_0aa43f38_e734_11e9_a673_f07960223b8erow1_col7 {\n",
       "            background-color:  #008066;\n",
       "            color:  #f1f1f1;\n",
       "        }    #T_0aa43f38_e734_11e9_a673_f07960223b8erow1_col8 {\n",
       "            background-color:  #008066;\n",
       "            color:  #f1f1f1;\n",
       "        }    #T_0aa43f38_e734_11e9_a673_f07960223b8erow1_col9 {\n",
       "            background-color:  #008066;\n",
       "            color:  #f1f1f1;\n",
       "        }    #T_0aa43f38_e734_11e9_a673_f07960223b8erow1_col10 {\n",
       "            background-color:  #008066;\n",
       "            color:  #f1f1f1;\n",
       "        }    #T_0aa43f38_e734_11e9_a673_f07960223b8erow1_col11 {\n",
       "            background-color:  #ffff66;\n",
       "            color:  #000000;\n",
       "        }    #T_0aa43f38_e734_11e9_a673_f07960223b8erow1_col12 {\n",
       "            background-color:  #008066;\n",
       "            color:  #f1f1f1;\n",
       "        }    #T_0aa43f38_e734_11e9_a673_f07960223b8erow1_col13 {\n",
       "            background-color:  #008066;\n",
       "            color:  #f1f1f1;\n",
       "        }    #T_0aa43f38_e734_11e9_a673_f07960223b8erow1_col14 {\n",
       "            background-color:  #ffff66;\n",
       "            color:  #000000;\n",
       "        }    #T_0aa43f38_e734_11e9_a673_f07960223b8erow1_col15 {\n",
       "            background-color:  #008066;\n",
       "            color:  #f1f1f1;\n",
       "        }    #T_0aa43f38_e734_11e9_a673_f07960223b8erow1_col16 {\n",
       "            background-color:  #008066;\n",
       "            color:  #f1f1f1;\n",
       "        }</style><table id=\"T_0aa43f38_e734_11e9_a673_f07960223b8e\" ><thead>    <tr>        <th class=\"index_name level0\" >Title1</th>        <th class=\"col_heading level0 col0\" >Capt</th>        <th class=\"col_heading level0 col1\" >Col</th>        <th class=\"col_heading level0 col2\" >Don</th>        <th class=\"col_heading level0 col3\" >Dr</th>        <th class=\"col_heading level0 col4\" >Jonkheer</th>        <th class=\"col_heading level0 col5\" >Lady</th>        <th class=\"col_heading level0 col6\" >Major</th>        <th class=\"col_heading level0 col7\" >Master</th>        <th class=\"col_heading level0 col8\" >Miss</th>        <th class=\"col_heading level0 col9\" >Mlle</th>        <th class=\"col_heading level0 col10\" >Mme</th>        <th class=\"col_heading level0 col11\" >Mr</th>        <th class=\"col_heading level0 col12\" >Mrs</th>        <th class=\"col_heading level0 col13\" >Ms</th>        <th class=\"col_heading level0 col14\" >Rev</th>        <th class=\"col_heading level0 col15\" >Sir</th>        <th class=\"col_heading level0 col16\" >the Countess</th>    </tr>    <tr>        <th class=\"index_name level0\" >Survived</th>        <th class=\"blank\" ></th>        <th class=\"blank\" ></th>        <th class=\"blank\" ></th>        <th class=\"blank\" ></th>        <th class=\"blank\" ></th>        <th class=\"blank\" ></th>        <th class=\"blank\" ></th>        <th class=\"blank\" ></th>        <th class=\"blank\" ></th>        <th class=\"blank\" ></th>        <th class=\"blank\" ></th>        <th class=\"blank\" ></th>        <th class=\"blank\" ></th>        <th class=\"blank\" ></th>        <th class=\"blank\" ></th>        <th class=\"blank\" ></th>        <th class=\"blank\" ></th>    </tr></thead><tbody>\n",
       "                <tr>\n",
       "                        <th id=\"T_0aa43f38_e734_11e9_a673_f07960223b8elevel0_row0\" class=\"row_heading level0 row0\" >0.0</th>\n",
       "                        <td id=\"T_0aa43f38_e734_11e9_a673_f07960223b8erow0_col0\" class=\"data row0 col0\" >1</td>\n",
       "                        <td id=\"T_0aa43f38_e734_11e9_a673_f07960223b8erow0_col1\" class=\"data row0 col1\" >1</td>\n",
       "                        <td id=\"T_0aa43f38_e734_11e9_a673_f07960223b8erow0_col2\" class=\"data row0 col2\" >1</td>\n",
       "                        <td id=\"T_0aa43f38_e734_11e9_a673_f07960223b8erow0_col3\" class=\"data row0 col3\" >4</td>\n",
       "                        <td id=\"T_0aa43f38_e734_11e9_a673_f07960223b8erow0_col4\" class=\"data row0 col4\" >1</td>\n",
       "                        <td id=\"T_0aa43f38_e734_11e9_a673_f07960223b8erow0_col5\" class=\"data row0 col5\" >0</td>\n",
       "                        <td id=\"T_0aa43f38_e734_11e9_a673_f07960223b8erow0_col6\" class=\"data row0 col6\" >1</td>\n",
       "                        <td id=\"T_0aa43f38_e734_11e9_a673_f07960223b8erow0_col7\" class=\"data row0 col7\" >17</td>\n",
       "                        <td id=\"T_0aa43f38_e734_11e9_a673_f07960223b8erow0_col8\" class=\"data row0 col8\" >55</td>\n",
       "                        <td id=\"T_0aa43f38_e734_11e9_a673_f07960223b8erow0_col9\" class=\"data row0 col9\" >0</td>\n",
       "                        <td id=\"T_0aa43f38_e734_11e9_a673_f07960223b8erow0_col10\" class=\"data row0 col10\" >0</td>\n",
       "                        <td id=\"T_0aa43f38_e734_11e9_a673_f07960223b8erow0_col11\" class=\"data row0 col11\" >436</td>\n",
       "                        <td id=\"T_0aa43f38_e734_11e9_a673_f07960223b8erow0_col12\" class=\"data row0 col12\" >26</td>\n",
       "                        <td id=\"T_0aa43f38_e734_11e9_a673_f07960223b8erow0_col13\" class=\"data row0 col13\" >0</td>\n",
       "                        <td id=\"T_0aa43f38_e734_11e9_a673_f07960223b8erow0_col14\" class=\"data row0 col14\" >6</td>\n",
       "                        <td id=\"T_0aa43f38_e734_11e9_a673_f07960223b8erow0_col15\" class=\"data row0 col15\" >0</td>\n",
       "                        <td id=\"T_0aa43f38_e734_11e9_a673_f07960223b8erow0_col16\" class=\"data row0 col16\" >0</td>\n",
       "            </tr>\n",
       "            <tr>\n",
       "                        <th id=\"T_0aa43f38_e734_11e9_a673_f07960223b8elevel0_row1\" class=\"row_heading level0 row1\" >1.0</th>\n",
       "                        <td id=\"T_0aa43f38_e734_11e9_a673_f07960223b8erow1_col0\" class=\"data row1 col0\" >0</td>\n",
       "                        <td id=\"T_0aa43f38_e734_11e9_a673_f07960223b8erow1_col1\" class=\"data row1 col1\" >1</td>\n",
       "                        <td id=\"T_0aa43f38_e734_11e9_a673_f07960223b8erow1_col2\" class=\"data row1 col2\" >0</td>\n",
       "                        <td id=\"T_0aa43f38_e734_11e9_a673_f07960223b8erow1_col3\" class=\"data row1 col3\" >3</td>\n",
       "                        <td id=\"T_0aa43f38_e734_11e9_a673_f07960223b8erow1_col4\" class=\"data row1 col4\" >0</td>\n",
       "                        <td id=\"T_0aa43f38_e734_11e9_a673_f07960223b8erow1_col5\" class=\"data row1 col5\" >1</td>\n",
       "                        <td id=\"T_0aa43f38_e734_11e9_a673_f07960223b8erow1_col6\" class=\"data row1 col6\" >1</td>\n",
       "                        <td id=\"T_0aa43f38_e734_11e9_a673_f07960223b8erow1_col7\" class=\"data row1 col7\" >23</td>\n",
       "                        <td id=\"T_0aa43f38_e734_11e9_a673_f07960223b8erow1_col8\" class=\"data row1 col8\" >127</td>\n",
       "                        <td id=\"T_0aa43f38_e734_11e9_a673_f07960223b8erow1_col9\" class=\"data row1 col9\" >2</td>\n",
       "                        <td id=\"T_0aa43f38_e734_11e9_a673_f07960223b8erow1_col10\" class=\"data row1 col10\" >1</td>\n",
       "                        <td id=\"T_0aa43f38_e734_11e9_a673_f07960223b8erow1_col11\" class=\"data row1 col11\" >81</td>\n",
       "                        <td id=\"T_0aa43f38_e734_11e9_a673_f07960223b8erow1_col12\" class=\"data row1 col12\" >99</td>\n",
       "                        <td id=\"T_0aa43f38_e734_11e9_a673_f07960223b8erow1_col13\" class=\"data row1 col13\" >1</td>\n",
       "                        <td id=\"T_0aa43f38_e734_11e9_a673_f07960223b8erow1_col14\" class=\"data row1 col14\" >0</td>\n",
       "                        <td id=\"T_0aa43f38_e734_11e9_a673_f07960223b8erow1_col15\" class=\"data row1 col15\" >1</td>\n",
       "                        <td id=\"T_0aa43f38_e734_11e9_a673_f07960223b8erow1_col16\" class=\"data row1 col16\" >1</td>\n",
       "            </tr>\n",
       "    </tbody></table>"
      ],
      "text/plain": [
       "<pandas.io.formats.style.Styler at 0x11eca66a0>"
      ]
     },
     "execution_count": 26,
     "metadata": {},
     "output_type": "execute_result"
    }
   ],
   "source": [
    "pd.crosstab(data['Title1'],data['Survived']).T.style.background_gradient(cmap='summer_r')"
   ]
  },
  {
   "cell_type": "code",
   "execution_count": 27,
   "metadata": {},
   "outputs": [
    {
     "data": {
      "text/plain": [
       "Title1\n",
       "Capt            70.000000\n",
       "Col             54.000000\n",
       "Don             40.000000\n",
       "Dona            39.000000\n",
       "Dr              43.571429\n",
       "Jonkheer        38.000000\n",
       "Lady            48.000000\n",
       "Major           48.500000\n",
       "Master           5.482642\n",
       "Miss            21.774238\n",
       "Mlle            24.000000\n",
       "Mme             24.000000\n",
       "Mr              32.252151\n",
       "Mrs             36.994118\n",
       "Ms              28.000000\n",
       "Rev             41.250000\n",
       "Sir             49.000000\n",
       "the Countess    33.000000\n",
       "Name: Age, dtype: float64"
      ]
     },
     "execution_count": 27,
     "metadata": {},
     "output_type": "execute_result"
    }
   ],
   "source": [
    "data.groupby(['Title1'])['Age'].mean()"
   ]
  },
  {
   "cell_type": "code",
   "execution_count": 28,
   "metadata": {},
   "outputs": [
    {
     "data": {
      "text/plain": [
       "Title1        Pclass\n",
       "Capt          1         70.000000\n",
       "Col           1         54.000000\n",
       "Don           1         40.000000\n",
       "Dona          1         39.000000\n",
       "Dr            1         45.600000\n",
       "              2         38.500000\n",
       "Jonkheer      1         38.000000\n",
       "Lady          1         48.000000\n",
       "Major         1         48.500000\n",
       "Master        1          6.984000\n",
       "              2          2.757273\n",
       "              3          6.090000\n",
       "Miss          1         30.338983\n",
       "              2         20.717083\n",
       "              3         17.360874\n",
       "Mlle          1         24.000000\n",
       "Mme           1         24.000000\n",
       "Mr            1         41.450758\n",
       "              2         32.346715\n",
       "              3         28.318910\n",
       "Mrs           1         43.208955\n",
       "              2         33.518519\n",
       "              3         32.326531\n",
       "Ms            2         28.000000\n",
       "              3               NaN\n",
       "Rev           2         41.250000\n",
       "Sir           1         49.000000\n",
       "the Countess  1         33.000000\n",
       "Name: Age, dtype: float64"
      ]
     },
     "execution_count": 28,
     "metadata": {},
     "output_type": "execute_result"
    }
   ],
   "source": [
    "data.groupby(['Title1','Pclass'])['Age'].mean()"
   ]
  },
  {
   "cell_type": "code",
   "execution_count": 29,
   "metadata": {},
   "outputs": [],
   "source": [
    "data['Title2'] = data['Title1'].replace(['Mlle','Mme','Ms','Dr','Major','Lady','the Countess','Jonkheer','Col','Rev','Capt','Sir','Don','Dona'],\n",
    "         ['Miss','Mrs','Miss','Mr','Mr','Mrs','Mrs','Mr','Mr','Mr','Mr','Mr','Mr','Mrs'])"
   ]
  },
  {
   "cell_type": "code",
   "execution_count": 30,
   "metadata": {},
   "outputs": [
    {
     "data": {
      "text/plain": [
       "array(['Mr', 'Mrs', 'Miss', 'Master'], dtype=object)"
      ]
     },
     "execution_count": 30,
     "metadata": {},
     "output_type": "execute_result"
    }
   ],
   "source": [
    "data['Title2'].unique()"
   ]
  },
  {
   "cell_type": "code",
   "execution_count": 31,
   "metadata": {},
   "outputs": [
    {
     "data": {
      "text/plain": [
       "Title2\n",
       "Master     5.482642\n",
       "Miss      21.824366\n",
       "Mr        32.811056\n",
       "Mrs       36.971264\n",
       "Name: Age, dtype: float64"
      ]
     },
     "execution_count": 31,
     "metadata": {},
     "output_type": "execute_result"
    }
   ],
   "source": [
    "data.groupby([\"Title2\"])[\"Age\"].mean()"
   ]
  },
  {
   "cell_type": "code",
   "execution_count": 32,
   "metadata": {},
   "outputs": [
    {
     "data": {
      "text/plain": [
       "Title2  Pclass\n",
       "Master  1          6.984000\n",
       "        2          2.757273\n",
       "        3          6.090000\n",
       "Miss    1         30.131148\n",
       "        2         20.865714\n",
       "        3         17.360874\n",
       "Mr      1         42.241497\n",
       "        2         32.914966\n",
       "        3         28.318910\n",
       "Mrs     1         42.802817\n",
       "        2         33.518519\n",
       "        3         32.326531\n",
       "Name: Age, dtype: float64"
      ]
     },
     "execution_count": 32,
     "metadata": {},
     "output_type": "execute_result"
    }
   ],
   "source": [
    "data.groupby([\"Title2\",\"Pclass\"])[\"Age\"].mean()"
   ]
  },
  {
   "cell_type": "code",
   "execution_count": 33,
   "metadata": {},
   "outputs": [
    {
     "data": {
      "text/html": [
       "<style  type=\"text/css\" >\n",
       "    #T_0abf87c0_e734_11e9_a673_f07960223b8erow0_col0 {\n",
       "            background-color:  #ffff66;\n",
       "            color:  #000000;\n",
       "        }    #T_0abf87c0_e734_11e9_a673_f07960223b8erow0_col1 {\n",
       "            background-color:  #008066;\n",
       "            color:  #f1f1f1;\n",
       "        }    #T_0abf87c0_e734_11e9_a673_f07960223b8erow0_col2 {\n",
       "            background-color:  #ffff66;\n",
       "            color:  #000000;\n",
       "        }    #T_0abf87c0_e734_11e9_a673_f07960223b8erow0_col3 {\n",
       "            background-color:  #008066;\n",
       "            color:  #f1f1f1;\n",
       "        }    #T_0abf87c0_e734_11e9_a673_f07960223b8erow1_col0 {\n",
       "            background-color:  #008066;\n",
       "            color:  #f1f1f1;\n",
       "        }    #T_0abf87c0_e734_11e9_a673_f07960223b8erow1_col1 {\n",
       "            background-color:  #ffff66;\n",
       "            color:  #000000;\n",
       "        }    #T_0abf87c0_e734_11e9_a673_f07960223b8erow1_col2 {\n",
       "            background-color:  #008066;\n",
       "            color:  #f1f1f1;\n",
       "        }    #T_0abf87c0_e734_11e9_a673_f07960223b8erow1_col3 {\n",
       "            background-color:  #ffff66;\n",
       "            color:  #000000;\n",
       "        }</style><table id=\"T_0abf87c0_e734_11e9_a673_f07960223b8e\" ><thead>    <tr>        <th class=\"index_name level0\" >Title2</th>        <th class=\"col_heading level0 col0\" >Master</th>        <th class=\"col_heading level0 col1\" >Miss</th>        <th class=\"col_heading level0 col2\" >Mr</th>        <th class=\"col_heading level0 col3\" >Mrs</th>    </tr>    <tr>        <th class=\"index_name level0\" >Sex</th>        <th class=\"blank\" ></th>        <th class=\"blank\" ></th>        <th class=\"blank\" ></th>        <th class=\"blank\" ></th>    </tr></thead><tbody>\n",
       "                <tr>\n",
       "                        <th id=\"T_0abf87c0_e734_11e9_a673_f07960223b8elevel0_row0\" class=\"row_heading level0 row0\" >female</th>\n",
       "                        <td id=\"T_0abf87c0_e734_11e9_a673_f07960223b8erow0_col0\" class=\"data row0 col0\" >0</td>\n",
       "                        <td id=\"T_0abf87c0_e734_11e9_a673_f07960223b8erow0_col1\" class=\"data row0 col1\" >264</td>\n",
       "                        <td id=\"T_0abf87c0_e734_11e9_a673_f07960223b8erow0_col2\" class=\"data row0 col2\" >1</td>\n",
       "                        <td id=\"T_0abf87c0_e734_11e9_a673_f07960223b8erow0_col3\" class=\"data row0 col3\" >201</td>\n",
       "            </tr>\n",
       "            <tr>\n",
       "                        <th id=\"T_0abf87c0_e734_11e9_a673_f07960223b8elevel0_row1\" class=\"row_heading level0 row1\" >male</th>\n",
       "                        <td id=\"T_0abf87c0_e734_11e9_a673_f07960223b8erow1_col0\" class=\"data row1 col0\" >61</td>\n",
       "                        <td id=\"T_0abf87c0_e734_11e9_a673_f07960223b8erow1_col1\" class=\"data row1 col1\" >0</td>\n",
       "                        <td id=\"T_0abf87c0_e734_11e9_a673_f07960223b8erow1_col2\" class=\"data row1 col2\" >782</td>\n",
       "                        <td id=\"T_0abf87c0_e734_11e9_a673_f07960223b8erow1_col3\" class=\"data row1 col3\" >0</td>\n",
       "            </tr>\n",
       "    </tbody></table>"
      ],
      "text/plain": [
       "<pandas.io.formats.style.Styler at 0x11f009fd0>"
      ]
     },
     "execution_count": 33,
     "metadata": {},
     "output_type": "execute_result"
    }
   ],
   "source": [
    "pd.crosstab(data[\"Title2\"],data[\"Sex\"]).T.style.background_gradient(cmap = \"summer_r\")"
   ]
  },
  {
   "cell_type": "code",
   "execution_count": 34,
   "metadata": {},
   "outputs": [],
   "source": [
    "data['Ticket_info'] = data['Ticket'].apply(lambda x : x.replace(\".\",\"\").replace(\"/\",\"\").strip().split(' ')[0] \n",
    "                                           if not x.isdigit() else 'X')\n"
   ]
  },
  {
   "cell_type": "code",
   "execution_count": 35,
   "metadata": {},
   "outputs": [
    {
     "data": {
      "text/plain": [
       "array(['A5', 'PC', 'STONO2', 'X', 'PP', 'CA', 'SCParis', 'SCA4', 'A4',\n",
       "       'SP', 'SOC', 'WC', 'SOTONOQ', 'WEP', 'STONO', 'C', 'SCPARIS',\n",
       "       'SOP', 'Fa', 'LINE', 'FCC', 'SWPP', 'SCOW', 'PPP', 'SC', 'SCAH',\n",
       "       'AS', 'SOPP', 'FC', 'SOTONO2', 'CASOTON', 'SCA3', 'STONOQ', 'AQ4',\n",
       "       'A', 'LP', 'AQ3'], dtype=object)"
      ]
     },
     "execution_count": 35,
     "metadata": {},
     "output_type": "execute_result"
    }
   ],
   "source": [
    "data[\"Ticket_info\"].unique()"
   ]
  },
  {
   "cell_type": "code",
   "execution_count": 36,
   "metadata": {},
   "outputs": [
    {
     "data": {
      "text/plain": [
       "<matplotlib.axes._subplots.AxesSubplot at 0x11f06f278>"
      ]
     },
     "execution_count": 36,
     "metadata": {},
     "output_type": "execute_result"
    },
    {
     "data": {
      "image/png": "[encoded data removed]",
      "text/plain": [
       "<Figure size 432x288 with 1 Axes>"
      ]
     },
     "metadata": {
      "needs_background": "light"
     },
     "output_type": "display_data"
    }
   ],
   "source": [
    "sns.countplot(data[\"Ticket_info\"], hue = data[\"Survived\"])"
   ]
  },
  {
   "cell_type": "code",
   "execution_count": 37,
   "metadata": {},
   "outputs": [],
   "source": [
    "data[\"Embarked\"] = data[\"Embarked\"].fillna(\"S\")"
   ]
  },
  {
   "cell_type": "code",
   "execution_count": 38,
   "metadata": {},
   "outputs": [],
   "source": [
    "data[\"Fare\"] = data[\"Fare\"].fillna(data[\"Fare\"].median())"
   ]
  },
  {
   "cell_type": "code",
   "execution_count": 40,
   "metadata": {},
   "outputs": [
    {
     "data": {
      "text/plain": [
       "0     NaN\n",
       "1     C85\n",
       "2     NaN\n",
       "3    C123\n",
       "4     NaN\n",
       "Name: Cabin, dtype: object"
      ]
     },
     "execution_count": 40,
     "metadata": {},
     "output_type": "execute_result"
    }
   ],
   "source": [
    "data[\"Cabin\"].head()"
   ]
  },
  {
   "cell_type": "code",
   "execution_count": 55,
   "metadata": {},
   "outputs": [],
   "source": [
    "data[\"Cabin\"] = data[\"Cabin\"].apply(lambda x : str(x)[0] if not pd.isnull(x) else \"Nocabin\")"
   ]
  },
  {
   "cell_type": "code",
   "execution_count": 42,
   "metadata": {},
   "outputs": [
    {
     "data": {
      "text/plain": [
       "array(['Nocabin', 'C', 'E', 'G', 'D', 'A', 'B', 'F', 'T'], dtype=object)"
      ]
     },
     "execution_count": 42,
     "metadata": {},
     "output_type": "execute_result"
    }
   ],
   "source": [
    "data[\"Cabin\"].unique()"
   ]
  },
  {
   "cell_type": "code",
   "execution_count": 43,
   "metadata": {},
   "outputs": [
    {
     "data": {
      "text/plain": [
       "<matplotlib.axes._subplots.AxesSubplot at 0x11f1d41d0>"
      ]
     },
     "execution_count": 43,
     "metadata": {},
     "output_type": "execute_result"
    },
    {
     "data": {
      "image/png": "[encoded data removed]",
      "text/plain": [
       "<Figure size 432x288 with 1 Axes>"
      ]
     },
     "metadata": {
      "needs_background": "light"
     },
     "output_type": "display_data"
    }
   ],
   "source": [
    "sns.countplot(data[\"Cabin\"], hue = data[\"Survived\"])"
   ]
  },
  {
   "cell_type": "code",
   "execution_count": 44,
   "metadata": {},
   "outputs": [],
   "source": [
    "data[\"Sex\"] = data[\"Sex\"].astype('category').cat.codes\n",
    "data[\"Embarked\"] = data[\"Embarked\"].astype(\"category\").cat.codes\n",
    "data[\"Pclass\"] = data[\"Pclass\"].astype(\"category\").cat.codes\n",
    "data[\"Title1\"] = data[\"Title1\"].astype(\"category\").cat.codes\n",
    "data[\"Title2\"] = data[\"Title2\"].astype(\"category\").cat.codes\n",
    "data[\"Cabin\"] = data[\"Cabin\"].astype(\"category\").cat.codes\n",
    "data[\"Ticket_info\"] = data[\"Ticket_info\"].astype(\"category\").cat.codes"
   ]
  },
  {
   "cell_type": "code",
   "execution_count": 45,
   "metadata": {},
   "outputs": [],
   "source": [
    "dataAgeNull = data[data[\"Age\"].isnull()]\n",
    "dataAgeNotNull = data[data[\"Age\"].notnull()]\n",
    "remove_outlier = dataAgeNotNull[(np.abs(dataAgeNotNull[\"Fare\"]-dataAgeNotNull[\"Fare\"].mean())>(4*dataAgeNotNull[\"Fare\"].std()))|\n",
    "                      (np.abs(dataAgeNotNull[\"Family_Size\"]-dataAgeNotNull[\"Family_Size\"].mean())>(4*dataAgeNotNull[\"Family_Size\"].std()))                     \n",
    "                     ]\n",
    "rfModel_age = RandomForestRegressor(n_estimators=2000,random_state=42)\n",
    "ageColumns = ['Embarked', 'Fare', 'Pclass', 'Sex', 'Family_Size', 'Title1', 'Title2','Cabin','Ticket_info']\n",
    "rfModel_age.fit(remove_outlier[ageColumns], remove_outlier[\"Age\"])\n",
    "\n",
    "ageNullValues = rfModel_age.predict(X= dataAgeNull[ageColumns])\n",
    "dataAgeNull.loc[:,\"Age\"] = ageNullValues\n",
    "data = dataAgeNull.append(dataAgeNotNull)\n",
    "data.reset_index(inplace=True, drop=True)"
   ]
  },
  {
   "cell_type": "code",
   "execution_count": 46,
   "metadata": {},
   "outputs": [],
   "source": [
    "dataTrain = data[pd.notnull(data['Survived'])].sort_values(by=[\"PassengerId\"])\n",
    "dataTest = data[~pd.notnull(data['Survived'])].sort_values(by=[\"PassengerId\"])"
   ]
  },
  {
   "cell_type": "code",
   "execution_count": 47,
   "metadata": {},
   "outputs": [
    {
     "data": {
      "text/plain": [
       "Index(['Age', 'Cabin', 'Embarked', 'Fare', 'Name', 'Parch', 'PassengerId',\n",
       "       'Pclass', 'Sex', 'SibSp', 'Survived', 'Ticket', 'Family_Size', 'Title1',\n",
       "       'Title2', 'Ticket_info'],\n",
       "      dtype='object')"
      ]
     },
     "execution_count": 47,
     "metadata": {},
     "output_type": "execute_result"
    }
   ],
   "source": [
    "dataTrain.columns"
   ]
  },
  {
   "cell_type": "code",
   "execution_count": 48,
   "metadata": {},
   "outputs": [],
   "source": [
    "dataTrain = dataTrain[['Survived', 'Age', 'Embarked', 'Fare',  'Pclass', 'Sex', 'Family_Size', 'Title2','Ticket_info','Cabin']]\n",
    "dataTest = dataTest[['Age', 'Embarked', 'Fare', 'Pclass', 'Sex', 'Family_Size', 'Title2','Ticket_info','Cabin']]\n"
   ]
  },
  {
   "cell_type": "code",
   "execution_count": 49,
   "metadata": {},
   "outputs": [
    {
     "data": {
      "text/html": [
       "<div>\n",
       "<style scoped>\n",
       "    .dataframe tbody tr th:only-of-type {\n",
       "        vertical-align: middle;\n",
       "    }\n",
       "\n",
       "    .dataframe tbody tr th {\n",
       "        vertical-align: top;\n",
       "    }\n",
       "\n",
       "    .dataframe thead th {\n",
       "        text-align: right;\n",
       "    }\n",
       "</style>\n",
       "<table border=\"1\" class=\"dataframe\">\n",
       "  <thead>\n",
       "    <tr style=\"text-align: right;\">\n",
       "      <th></th>\n",
       "      <th>Survived</th>\n",
       "      <th>Age</th>\n",
       "      <th>Embarked</th>\n",
       "      <th>Fare</th>\n",
       "      <th>Pclass</th>\n",
       "      <th>Sex</th>\n",
       "      <th>Family_Size</th>\n",
       "      <th>Title2</th>\n",
       "      <th>Ticket_info</th>\n",
       "      <th>Cabin</th>\n",
       "    </tr>\n",
       "  </thead>\n",
       "  <tbody>\n",
       "    <tr>\n",
       "      <th>263</th>\n",
       "      <td>0.0</td>\n",
       "      <td>22.0</td>\n",
       "      <td>2</td>\n",
       "      <td>7.2500</td>\n",
       "      <td>2</td>\n",
       "      <td>1</td>\n",
       "      <td>1</td>\n",
       "      <td>2</td>\n",
       "      <td>2</td>\n",
       "      <td>7</td>\n",
       "    </tr>\n",
       "    <tr>\n",
       "      <th>264</th>\n",
       "      <td>1.0</td>\n",
       "      <td>38.0</td>\n",
       "      <td>0</td>\n",
       "      <td>71.2833</td>\n",
       "      <td>0</td>\n",
       "      <td>0</td>\n",
       "      <td>1</td>\n",
       "      <td>3</td>\n",
       "      <td>14</td>\n",
       "      <td>2</td>\n",
       "    </tr>\n",
       "    <tr>\n",
       "      <th>265</th>\n",
       "      <td>1.0</td>\n",
       "      <td>26.0</td>\n",
       "      <td>2</td>\n",
       "      <td>7.9250</td>\n",
       "      <td>2</td>\n",
       "      <td>0</td>\n",
       "      <td>0</td>\n",
       "      <td>1</td>\n",
       "      <td>31</td>\n",
       "      <td>7</td>\n",
       "    </tr>\n",
       "    <tr>\n",
       "      <th>266</th>\n",
       "      <td>1.0</td>\n",
       "      <td>35.0</td>\n",
       "      <td>2</td>\n",
       "      <td>53.1000</td>\n",
       "      <td>0</td>\n",
       "      <td>0</td>\n",
       "      <td>1</td>\n",
       "      <td>3</td>\n",
       "      <td>36</td>\n",
       "      <td>2</td>\n",
       "    </tr>\n",
       "    <tr>\n",
       "      <th>267</th>\n",
       "      <td>0.0</td>\n",
       "      <td>35.0</td>\n",
       "      <td>2</td>\n",
       "      <td>8.0500</td>\n",
       "      <td>2</td>\n",
       "      <td>1</td>\n",
       "      <td>0</td>\n",
       "      <td>2</td>\n",
       "      <td>36</td>\n",
       "      <td>7</td>\n",
       "    </tr>\n",
       "  </tbody>\n",
       "</table>\n",
       "</div>"
      ],
      "text/plain": [
       "     Survived   Age  Embarked     Fare  Pclass  Sex  Family_Size  Title2  \\\n",
       "263       0.0  22.0         2   7.2500       2    1            1       2   \n",
       "264       1.0  38.0         0  71.2833       0    0            1       3   \n",
       "265       1.0  26.0         2   7.9250       2    0            0       1   \n",
       "266       1.0  35.0         2  53.1000       0    0            1       3   \n",
       "267       0.0  35.0         2   8.0500       2    1            0       2   \n",
       "\n",
       "     Ticket_info  Cabin  \n",
       "263            2      7  \n",
       "264           14      2  \n",
       "265           31      7  \n",
       "266           36      2  \n",
       "267           36      7  "
      ]
     },
     "execution_count": 49,
     "metadata": {},
     "output_type": "execute_result"
    }
   ],
   "source": [
    "dataTrain.head(5)"
   ]
  },
  {
   "cell_type": "code",
   "execution_count": 50,
   "metadata": {},
   "outputs": [
    {
     "name": "stdout",
     "output_type": "stream",
     "text": [
      "0.8294\n"
     ]
    }
   ],
   "source": [
    "rf = RandomForestClassifier(criterion='gini', \n",
    "                             n_estimators= 1500,\n",
    "                             min_samples_split=12,\n",
    "                             min_samples_leaf=1,\n",
    "                             oob_score=True,\n",
    "                             random_state=1,\n",
    "                             n_jobs=-1) \n",
    "\n",
    "rf.fit(dataTrain.iloc[:, 1:], dataTrain.iloc[:, 0])\n",
    "print(\"%.4f\" % rf.oob_score_)"
   ]
  },
  {
   "cell_type": "code",
   "execution_count": 51,
   "metadata": {},
   "outputs": [
    {
     "data": {
      "text/html": [
       "<div>\n",
       "<style scoped>\n",
       "    .dataframe tbody tr th:only-of-type {\n",
       "        vertical-align: middle;\n",
       "    }\n",
       "\n",
       "    .dataframe tbody tr th {\n",
       "        vertical-align: top;\n",
       "    }\n",
       "\n",
       "    .dataframe thead th {\n",
       "        text-align: right;\n",
       "    }\n",
       "</style>\n",
       "<table border=\"1\" class=\"dataframe\">\n",
       "  <thead>\n",
       "    <tr style=\"text-align: right;\">\n",
       "      <th></th>\n",
       "      <th>variable</th>\n",
       "      <th>importance</th>\n",
       "    </tr>\n",
       "  </thead>\n",
       "  <tbody>\n",
       "    <tr>\n",
       "      <th>4</th>\n",
       "      <td>Sex</td>\n",
       "      <td>0.266647</td>\n",
       "    </tr>\n",
       "    <tr>\n",
       "      <th>2</th>\n",
       "      <td>Fare</td>\n",
       "      <td>0.162914</td>\n",
       "    </tr>\n",
       "    <tr>\n",
       "      <th>6</th>\n",
       "      <td>Title2</td>\n",
       "      <td>0.151276</td>\n",
       "    </tr>\n",
       "    <tr>\n",
       "      <th>0</th>\n",
       "      <td>Age</td>\n",
       "      <td>0.132808</td>\n",
       "    </tr>\n",
       "    <tr>\n",
       "      <th>3</th>\n",
       "      <td>Pclass</td>\n",
       "      <td>0.089523</td>\n",
       "    </tr>\n",
       "    <tr>\n",
       "      <th>5</th>\n",
       "      <td>Family_Size</td>\n",
       "      <td>0.070369</td>\n",
       "    </tr>\n",
       "    <tr>\n",
       "      <th>8</th>\n",
       "      <td>Cabin</td>\n",
       "      <td>0.068538</td>\n",
       "    </tr>\n",
       "    <tr>\n",
       "      <th>7</th>\n",
       "      <td>Ticket_info</td>\n",
       "      <td>0.031879</td>\n",
       "    </tr>\n",
       "    <tr>\n",
       "      <th>1</th>\n",
       "      <td>Embarked</td>\n",
       "      <td>0.026045</td>\n",
       "    </tr>\n",
       "  </tbody>\n",
       "</table>\n",
       "</div>"
      ],
      "text/plain": [
       "      variable  importance\n",
       "4          Sex    0.266647\n",
       "2         Fare    0.162914\n",
       "6       Title2    0.151276\n",
       "0          Age    0.132808\n",
       "3       Pclass    0.089523\n",
       "5  Family_Size    0.070369\n",
       "8        Cabin    0.068538\n",
       "7  Ticket_info    0.031879\n",
       "1     Embarked    0.026045"
      ]
     },
     "execution_count": 51,
     "metadata": {},
     "output_type": "execute_result"
    }
   ],
   "source": [
    "pd.concat((pd.DataFrame(dataTrain.iloc[:, 1:].columns, columns = ['variable']), \n",
    "           pd.DataFrame(rf.feature_importances_, columns = ['importance'])), \n",
    "          axis = 1).sort_values(by='importance', ascending = False)[:20]"
   ]
  },
  {
   "cell_type": "code",
   "execution_count": 53,
   "metadata": {},
   "outputs": [],
   "source": [
    "rf_res =  rf.predict(dataTest)\n",
    "submit['Survived'] = rf_res\n",
    "submit['Survived'] = submit['Survived'].astype(int)\n",
    "submit.to_csv('submit.csv', index= False)"
   ]
  }
 ],
 "metadata": {
  "kernelspec": {
   "display_name": "Python 3",
   "language": "python",
   "name": "python3"
  },
  "language_info": {
   "codemirror_mode": {
    "name": "ipython",
    "version": 3
   },
   "file_extension": ".py",
   "mimetype": "text/x-python",
   "name": "python",
   "nbconvert_exporter": "python",
   "pygments_lexer": "ipython3",
   "version": "3.7.3"
  }
 },
 "nbformat": 4,
 "nbformat_minor": 2
}
